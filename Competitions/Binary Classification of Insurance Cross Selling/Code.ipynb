{
 "cells": [
  {
   "metadata": {},
   "cell_type": "markdown",
   "source": [
    "# Competition link:\n",
    "https://www.kaggle.com/competitions/playground-series-s4e7/overview"
   ],
   "id": "43ef55b2b03b83fc"
  },
  {
   "cell_type": "code",
   "id": "initial_id",
   "metadata": {
    "collapsed": true,
    "ExecuteTime": {
     "end_time": "2024-07-17T11:30:12.699849Z",
     "start_time": "2024-07-17T11:30:11.793194Z"
    }
   },
   "source": [
    "import pandas as pd\n",
    "import numpy as np\n",
    "from sklearn import preprocessing"
   ],
   "outputs": [],
   "execution_count": 1
  },
  {
   "metadata": {
    "ExecuteTime": {
     "end_time": "2024-07-17T11:30:17.087103Z",
     "start_time": "2024-07-17T11:30:12.701378Z"
    }
   },
   "cell_type": "code",
   "source": "train = pd.read_csv('train.csv')",
   "id": "b4b187fddfe6a87d",
   "outputs": [],
   "execution_count": 2
  },
  {
   "metadata": {
    "ExecuteTime": {
     "end_time": "2024-07-17T11:30:17.095332Z",
     "start_time": "2024-07-17T11:30:17.087716Z"
    }
   },
   "cell_type": "code",
   "source": "train.head()",
   "id": "be0b45766e70621e",
   "outputs": [
    {
     "data": {
      "text/plain": [
       "   id  Gender  Age  Driving_License  Region_Code  Previously_Insured  \\\n",
       "0   0    Male   21                1         35.0                   0   \n",
       "1   1    Male   43                1         28.0                   0   \n",
       "2   2  Female   25                1         14.0                   1   \n",
       "3   3  Female   35                1          1.0                   0   \n",
       "4   4  Female   36                1         15.0                   1   \n",
       "\n",
       "  Vehicle_Age Vehicle_Damage  Annual_Premium  Policy_Sales_Channel  Vintage  \\\n",
       "0    1-2 Year            Yes         65101.0                 124.0      187   \n",
       "1   > 2 Years            Yes         58911.0                  26.0      288   \n",
       "2    < 1 Year             No         38043.0                 152.0      254   \n",
       "3    1-2 Year            Yes          2630.0                 156.0       76   \n",
       "4    1-2 Year             No         31951.0                 152.0      294   \n",
       "\n",
       "   Response  \n",
       "0         0  \n",
       "1         1  \n",
       "2         0  \n",
       "3         0  \n",
       "4         0  "
      ],
      "text/html": [
       "<div>\n",
       "<style scoped>\n",
       "    .dataframe tbody tr th:only-of-type {\n",
       "        vertical-align: middle;\n",
       "    }\n",
       "\n",
       "    .dataframe tbody tr th {\n",
       "        vertical-align: top;\n",
       "    }\n",
       "\n",
       "    .dataframe thead th {\n",
       "        text-align: right;\n",
       "    }\n",
       "</style>\n",
       "<table border=\"1\" class=\"dataframe\">\n",
       "  <thead>\n",
       "    <tr style=\"text-align: right;\">\n",
       "      <th></th>\n",
       "      <th>id</th>\n",
       "      <th>Gender</th>\n",
       "      <th>Age</th>\n",
       "      <th>Driving_License</th>\n",
       "      <th>Region_Code</th>\n",
       "      <th>Previously_Insured</th>\n",
       "      <th>Vehicle_Age</th>\n",
       "      <th>Vehicle_Damage</th>\n",
       "      <th>Annual_Premium</th>\n",
       "      <th>Policy_Sales_Channel</th>\n",
       "      <th>Vintage</th>\n",
       "      <th>Response</th>\n",
       "    </tr>\n",
       "  </thead>\n",
       "  <tbody>\n",
       "    <tr>\n",
       "      <th>0</th>\n",
       "      <td>0</td>\n",
       "      <td>Male</td>\n",
       "      <td>21</td>\n",
       "      <td>1</td>\n",
       "      <td>35.0</td>\n",
       "      <td>0</td>\n",
       "      <td>1-2 Year</td>\n",
       "      <td>Yes</td>\n",
       "      <td>65101.0</td>\n",
       "      <td>124.0</td>\n",
       "      <td>187</td>\n",
       "      <td>0</td>\n",
       "    </tr>\n",
       "    <tr>\n",
       "      <th>1</th>\n",
       "      <td>1</td>\n",
       "      <td>Male</td>\n",
       "      <td>43</td>\n",
       "      <td>1</td>\n",
       "      <td>28.0</td>\n",
       "      <td>0</td>\n",
       "      <td>&gt; 2 Years</td>\n",
       "      <td>Yes</td>\n",
       "      <td>58911.0</td>\n",
       "      <td>26.0</td>\n",
       "      <td>288</td>\n",
       "      <td>1</td>\n",
       "    </tr>\n",
       "    <tr>\n",
       "      <th>2</th>\n",
       "      <td>2</td>\n",
       "      <td>Female</td>\n",
       "      <td>25</td>\n",
       "      <td>1</td>\n",
       "      <td>14.0</td>\n",
       "      <td>1</td>\n",
       "      <td>&lt; 1 Year</td>\n",
       "      <td>No</td>\n",
       "      <td>38043.0</td>\n",
       "      <td>152.0</td>\n",
       "      <td>254</td>\n",
       "      <td>0</td>\n",
       "    </tr>\n",
       "    <tr>\n",
       "      <th>3</th>\n",
       "      <td>3</td>\n",
       "      <td>Female</td>\n",
       "      <td>35</td>\n",
       "      <td>1</td>\n",
       "      <td>1.0</td>\n",
       "      <td>0</td>\n",
       "      <td>1-2 Year</td>\n",
       "      <td>Yes</td>\n",
       "      <td>2630.0</td>\n",
       "      <td>156.0</td>\n",
       "      <td>76</td>\n",
       "      <td>0</td>\n",
       "    </tr>\n",
       "    <tr>\n",
       "      <th>4</th>\n",
       "      <td>4</td>\n",
       "      <td>Female</td>\n",
       "      <td>36</td>\n",
       "      <td>1</td>\n",
       "      <td>15.0</td>\n",
       "      <td>1</td>\n",
       "      <td>1-2 Year</td>\n",
       "      <td>No</td>\n",
       "      <td>31951.0</td>\n",
       "      <td>152.0</td>\n",
       "      <td>294</td>\n",
       "      <td>0</td>\n",
       "    </tr>\n",
       "  </tbody>\n",
       "</table>\n",
       "</div>"
      ]
     },
     "execution_count": 3,
     "metadata": {},
     "output_type": "execute_result"
    }
   ],
   "execution_count": 3
  },
  {
   "metadata": {
    "ExecuteTime": {
     "end_time": "2024-07-17T11:30:17.097808Z",
     "start_time": "2024-07-17T11:30:17.095852Z"
    }
   },
   "cell_type": "code",
   "source": "train.columns",
   "id": "4164168f04628c0",
   "outputs": [
    {
     "data": {
      "text/plain": [
       "Index(['id', 'Gender', 'Age', 'Driving_License', 'Region_Code',\n",
       "       'Previously_Insured', 'Vehicle_Age', 'Vehicle_Damage', 'Annual_Premium',\n",
       "       'Policy_Sales_Channel', 'Vintage', 'Response'],\n",
       "      dtype='object')"
      ]
     },
     "execution_count": 4,
     "metadata": {},
     "output_type": "execute_result"
    }
   ],
   "execution_count": 4
  },
  {
   "metadata": {
    "ExecuteTime": {
     "end_time": "2024-07-17T11:30:17.100627Z",
     "start_time": "2024-07-17T11:30:17.098964Z"
    }
   },
   "cell_type": "code",
   "source": "train.shape",
   "id": "bbe1c6d08532183c",
   "outputs": [
    {
     "data": {
      "text/plain": [
       "(11504798, 12)"
      ]
     },
     "execution_count": 5,
     "metadata": {},
     "output_type": "execute_result"
    }
   ],
   "execution_count": 5
  },
  {
   "metadata": {
    "ExecuteTime": {
     "end_time": "2024-07-17T11:30:21.455637Z",
     "start_time": "2024-07-17T11:30:17.101126Z"
    }
   },
   "cell_type": "code",
   "source": [
    "# let's reimport file without ID\n",
    "train = pd.read_csv('train.csv', index_col=0)"
   ],
   "id": "3429261e2dcd9aaa",
   "outputs": [],
   "execution_count": 6
  },
  {
   "metadata": {
    "ExecuteTime": {
     "end_time": "2024-07-17T11:30:21.460590Z",
     "start_time": "2024-07-17T11:30:21.456594Z"
    }
   },
   "cell_type": "code",
   "source": "train.head()",
   "id": "464b3b777c565113",
   "outputs": [
    {
     "data": {
      "text/plain": [
       "    Gender  Age  Driving_License  Region_Code  Previously_Insured Vehicle_Age  \\\n",
       "id                                                                              \n",
       "0     Male   21                1         35.0                   0    1-2 Year   \n",
       "1     Male   43                1         28.0                   0   > 2 Years   \n",
       "2   Female   25                1         14.0                   1    < 1 Year   \n",
       "3   Female   35                1          1.0                   0    1-2 Year   \n",
       "4   Female   36                1         15.0                   1    1-2 Year   \n",
       "\n",
       "   Vehicle_Damage  Annual_Premium  Policy_Sales_Channel  Vintage  Response  \n",
       "id                                                                          \n",
       "0             Yes         65101.0                 124.0      187         0  \n",
       "1             Yes         58911.0                  26.0      288         1  \n",
       "2              No         38043.0                 152.0      254         0  \n",
       "3             Yes          2630.0                 156.0       76         0  \n",
       "4              No         31951.0                 152.0      294         0  "
      ],
      "text/html": [
       "<div>\n",
       "<style scoped>\n",
       "    .dataframe tbody tr th:only-of-type {\n",
       "        vertical-align: middle;\n",
       "    }\n",
       "\n",
       "    .dataframe tbody tr th {\n",
       "        vertical-align: top;\n",
       "    }\n",
       "\n",
       "    .dataframe thead th {\n",
       "        text-align: right;\n",
       "    }\n",
       "</style>\n",
       "<table border=\"1\" class=\"dataframe\">\n",
       "  <thead>\n",
       "    <tr style=\"text-align: right;\">\n",
       "      <th></th>\n",
       "      <th>Gender</th>\n",
       "      <th>Age</th>\n",
       "      <th>Driving_License</th>\n",
       "      <th>Region_Code</th>\n",
       "      <th>Previously_Insured</th>\n",
       "      <th>Vehicle_Age</th>\n",
       "      <th>Vehicle_Damage</th>\n",
       "      <th>Annual_Premium</th>\n",
       "      <th>Policy_Sales_Channel</th>\n",
       "      <th>Vintage</th>\n",
       "      <th>Response</th>\n",
       "    </tr>\n",
       "    <tr>\n",
       "      <th>id</th>\n",
       "      <th></th>\n",
       "      <th></th>\n",
       "      <th></th>\n",
       "      <th></th>\n",
       "      <th></th>\n",
       "      <th></th>\n",
       "      <th></th>\n",
       "      <th></th>\n",
       "      <th></th>\n",
       "      <th></th>\n",
       "      <th></th>\n",
       "    </tr>\n",
       "  </thead>\n",
       "  <tbody>\n",
       "    <tr>\n",
       "      <th>0</th>\n",
       "      <td>Male</td>\n",
       "      <td>21</td>\n",
       "      <td>1</td>\n",
       "      <td>35.0</td>\n",
       "      <td>0</td>\n",
       "      <td>1-2 Year</td>\n",
       "      <td>Yes</td>\n",
       "      <td>65101.0</td>\n",
       "      <td>124.0</td>\n",
       "      <td>187</td>\n",
       "      <td>0</td>\n",
       "    </tr>\n",
       "    <tr>\n",
       "      <th>1</th>\n",
       "      <td>Male</td>\n",
       "      <td>43</td>\n",
       "      <td>1</td>\n",
       "      <td>28.0</td>\n",
       "      <td>0</td>\n",
       "      <td>&gt; 2 Years</td>\n",
       "      <td>Yes</td>\n",
       "      <td>58911.0</td>\n",
       "      <td>26.0</td>\n",
       "      <td>288</td>\n",
       "      <td>1</td>\n",
       "    </tr>\n",
       "    <tr>\n",
       "      <th>2</th>\n",
       "      <td>Female</td>\n",
       "      <td>25</td>\n",
       "      <td>1</td>\n",
       "      <td>14.0</td>\n",
       "      <td>1</td>\n",
       "      <td>&lt; 1 Year</td>\n",
       "      <td>No</td>\n",
       "      <td>38043.0</td>\n",
       "      <td>152.0</td>\n",
       "      <td>254</td>\n",
       "      <td>0</td>\n",
       "    </tr>\n",
       "    <tr>\n",
       "      <th>3</th>\n",
       "      <td>Female</td>\n",
       "      <td>35</td>\n",
       "      <td>1</td>\n",
       "      <td>1.0</td>\n",
       "      <td>0</td>\n",
       "      <td>1-2 Year</td>\n",
       "      <td>Yes</td>\n",
       "      <td>2630.0</td>\n",
       "      <td>156.0</td>\n",
       "      <td>76</td>\n",
       "      <td>0</td>\n",
       "    </tr>\n",
       "    <tr>\n",
       "      <th>4</th>\n",
       "      <td>Female</td>\n",
       "      <td>36</td>\n",
       "      <td>1</td>\n",
       "      <td>15.0</td>\n",
       "      <td>1</td>\n",
       "      <td>1-2 Year</td>\n",
       "      <td>No</td>\n",
       "      <td>31951.0</td>\n",
       "      <td>152.0</td>\n",
       "      <td>294</td>\n",
       "      <td>0</td>\n",
       "    </tr>\n",
       "  </tbody>\n",
       "</table>\n",
       "</div>"
      ]
     },
     "execution_count": 7,
     "metadata": {},
     "output_type": "execute_result"
    }
   ],
   "execution_count": 7
  },
  {
   "metadata": {
    "ExecuteTime": {
     "end_time": "2024-07-17T11:30:21.463219Z",
     "start_time": "2024-07-17T11:30:21.461265Z"
    }
   },
   "cell_type": "code",
   "source": "train.columns",
   "id": "85b564d5086e0317",
   "outputs": [
    {
     "data": {
      "text/plain": [
       "Index(['Gender', 'Age', 'Driving_License', 'Region_Code', 'Previously_Insured',\n",
       "       'Vehicle_Age', 'Vehicle_Damage', 'Annual_Premium',\n",
       "       'Policy_Sales_Channel', 'Vintage', 'Response'],\n",
       "      dtype='object')"
      ]
     },
     "execution_count": 8,
     "metadata": {},
     "output_type": "execute_result"
    }
   ],
   "execution_count": 8
  },
  {
   "metadata": {
    "ExecuteTime": {
     "end_time": "2024-07-17T11:30:21.758002Z",
     "start_time": "2024-07-17T11:30:21.463824Z"
    }
   },
   "cell_type": "code",
   "source": "train['Vehicle_Damage'] = train['Vehicle_Damage'].map({'Yes': 1, 'No': 0})",
   "id": "a385433c9f2d240f",
   "outputs": [],
   "execution_count": 9
  },
  {
   "metadata": {
    "ExecuteTime": {
     "end_time": "2024-07-17T11:30:22.011986Z",
     "start_time": "2024-07-17T11:30:21.758676Z"
    }
   },
   "cell_type": "code",
   "source": "train.Vehicle_Age.unique()",
   "id": "da11beac3fd9fede",
   "outputs": [
    {
     "data": {
      "text/plain": [
       "array(['1-2 Year', '> 2 Years', '< 1 Year'], dtype=object)"
      ]
     },
     "execution_count": 10,
     "metadata": {},
     "output_type": "execute_result"
    }
   ],
   "execution_count": 10
  },
  {
   "metadata": {
    "ExecuteTime": {
     "end_time": "2024-07-17T11:30:22.261140Z",
     "start_time": "2024-07-17T11:30:22.012596Z"
    }
   },
   "cell_type": "code",
   "source": "train['Vehicle_Age'] = train['Vehicle_Age'].map({'< 1 Year': 0, '1-2 Year': 1, '> 2 Years': 2})",
   "id": "77f7345ccc9d025a",
   "outputs": [],
   "execution_count": 11
  },
  {
   "metadata": {
    "ExecuteTime": {
     "end_time": "2024-07-17T11:30:22.549629Z",
     "start_time": "2024-07-17T11:30:22.261830Z"
    }
   },
   "cell_type": "code",
   "source": "train['Gender'] = train['Gender'].map({'Male': 0, 'Female': 1})",
   "id": "7a2df7ddb40590b3",
   "outputs": [],
   "execution_count": 12
  },
  {
   "metadata": {
    "ExecuteTime": {
     "end_time": "2024-07-17T11:30:22.901298Z",
     "start_time": "2024-07-17T11:30:22.550312Z"
    }
   },
   "cell_type": "code",
   "source": [
    "for col in list(train.columns):\n",
    "    print(f'{col}: {train[col].unique()}')"
   ],
   "id": "41610690caccc8f9",
   "outputs": [
    {
     "name": "stdout",
     "output_type": "stream",
     "text": [
      "Gender: [0 1]\n",
      "Age: [21 43 25 35 36 31 23 47 26 66 22 27 24 79 34 20 42 40 50 67 63 46 37 30\n",
      " 53 32 28 58 48 59 52 39 44 33 41 57 51 45 68 74 29 49 55 61 60 65 54 38\n",
      " 56 71 62 70 73 64 69 72 78 80 76 75 77 81 83 82 84 85]\n",
      "Driving_License: [1 0]\n",
      "Region_Code: [35.  28.  14.   1.  15.  47.  45.   8.  11.   3.  10.  12.  37.  50.\n",
      " 30.  46.  29.  16.  26.  25.  41.  48.   7.   4.  24.  36.  33.   2.\n",
      "  9.  27.  18.  43.  49.  17.  13.  38.   6.  21.  23.   0.  19.   5.\n",
      " 39.  44.  20.  40.  22.  32.  42.  31.  34.  51.  52.  39.2]\n",
      "Previously_Insured: [0 1]\n",
      "Vehicle_Age: [1 2 0]\n",
      "Vehicle_Damage: [1 0]\n",
      "Annual_Premium: [65101. 58911. 38043. ... 22112. 54335. 64538.]\n",
      "Policy_Sales_Channel: [124.  26. 152. 156. 160.   8.  31. 157.  60. 122.  15.  30. 147.   1.\n",
      "  63. 136. 154.  18. 135. 151.   3.  10.  55. 108.   7.  29. 163.  13.\n",
      " 133. 145.  25.  12. 109.  23.  78.   4. 153. 150. 146. 120. 107. 155.\n",
      "  61.  14.  45.  11.  19.  24.  52. 132. 125.  59.  16.  22.  56.  20.\n",
      " 148. 158. 159. 139.   9. 113. 121.  21. 111.  64. 116. 103. 128.  65.\n",
      "  37.  91. 129. 127. 106. 140.  35. 131.  17.  93.  90.  36. 118.  54.\n",
      "  62. 138.  42.  46.  86.  80.  68. 119.  94.  48.  47.  83.  97.  70.\n",
      "  53.  44. 114.  98.  88. 110.  32. 126.  96.  99. 130.  66. 105.  51.\n",
      "  38. 137.  89.  81.  92. 117.  73.  69.  49.  87.  33.  39.  50. 123.\n",
      "  75. 101. 115. 100.  95.  57.  71. 134.  82.   6.  58. 104.  41.  40.\n",
      "   2.  79.  34.  76.  28.  74.  43.  67.  27. 112. 102.   5.]\n",
      "Vintage: [187 288 254  76 294 197 190 262  36 125 215  30 203 259 245 150 240 242\n",
      " 117 151 169 185 264  38 152 284  25 204 181 275  95 260 222 227 273 290\n",
      "  70 160  81  20 168 267 286 130  92 171 113 158 208  42  94 189  84 228\n",
      " 194 249 129  11 120  16 298 226 159 100 230 295 235 217  43 132 123 131\n",
      " 111 127 112 182 101  34  80 135 292  22 163 110  29  19  77 241 232 192\n",
      " 280 252 281 253 114  74 270  17 186  61 255  21 145  27  63 268 176 272\n",
      "  48 202 274 139 246 142  78  31 193 137 248 108  56 238 165 256 237 247\n",
      " 205  15 218 282  24  86  90  75  54 164 278  91  49 105 251 219  53 102\n",
      " 118 236 138  47 116 115 195  71  64 224  67  83 201 180 279 244 206 200\n",
      " 257 172 283 166 261  26 155 285 291 128 184  65 178  79  69  40 198 234\n",
      " 263 141  98 162 231  55 161  52 216 106 211 119 199 170 225 126  35 250\n",
      " 103  13 146 149  23 207 157  62 188 134 179  12 243 293  18 177 265 144\n",
      " 276 191  51 271 124 299 221  60 167 210  44 121  10  96 212 133 143 104\n",
      " 136  99 140 266  33  89  57  97 287 269 107 297  72  68 175 173  82 209\n",
      " 233  66  87 147  37 296  39 220 289 183 239 277 148  85 109 229  32 196\n",
      "  45 223  28 258  14 154 153 122  50  88  73  58  46 213  93 156 174 214\n",
      "  41  59]\n",
      "Response: [0 1]\n"
     ]
    }
   ],
   "execution_count": 13
  },
  {
   "metadata": {
    "ExecuteTime": {
     "end_time": "2024-07-17T11:30:22.910406Z",
     "start_time": "2024-07-17T11:30:22.903887Z"
    }
   },
   "cell_type": "code",
   "source": "train[train.Region_Code == 39.2]",
   "id": "87904c2ea31135bb",
   "outputs": [
    {
     "data": {
      "text/plain": [
       "          Gender  Age  Driving_License  Region_Code  Previously_Insured  \\\n",
       "id                                                                        \n",
       "11370234       1   20                1         39.2                   1   \n",
       "\n",
       "          Vehicle_Age  Vehicle_Damage  Annual_Premium  Policy_Sales_Channel  \\\n",
       "id                                                                            \n",
       "11370234            0               0          2630.0                 159.0   \n",
       "\n",
       "          Vintage  Response  \n",
       "id                           \n",
       "11370234       74         0  "
      ],
      "text/html": [
       "<div>\n",
       "<style scoped>\n",
       "    .dataframe tbody tr th:only-of-type {\n",
       "        vertical-align: middle;\n",
       "    }\n",
       "\n",
       "    .dataframe tbody tr th {\n",
       "        vertical-align: top;\n",
       "    }\n",
       "\n",
       "    .dataframe thead th {\n",
       "        text-align: right;\n",
       "    }\n",
       "</style>\n",
       "<table border=\"1\" class=\"dataframe\">\n",
       "  <thead>\n",
       "    <tr style=\"text-align: right;\">\n",
       "      <th></th>\n",
       "      <th>Gender</th>\n",
       "      <th>Age</th>\n",
       "      <th>Driving_License</th>\n",
       "      <th>Region_Code</th>\n",
       "      <th>Previously_Insured</th>\n",
       "      <th>Vehicle_Age</th>\n",
       "      <th>Vehicle_Damage</th>\n",
       "      <th>Annual_Premium</th>\n",
       "      <th>Policy_Sales_Channel</th>\n",
       "      <th>Vintage</th>\n",
       "      <th>Response</th>\n",
       "    </tr>\n",
       "    <tr>\n",
       "      <th>id</th>\n",
       "      <th></th>\n",
       "      <th></th>\n",
       "      <th></th>\n",
       "      <th></th>\n",
       "      <th></th>\n",
       "      <th></th>\n",
       "      <th></th>\n",
       "      <th></th>\n",
       "      <th></th>\n",
       "      <th></th>\n",
       "      <th></th>\n",
       "    </tr>\n",
       "  </thead>\n",
       "  <tbody>\n",
       "    <tr>\n",
       "      <th>11370234</th>\n",
       "      <td>1</td>\n",
       "      <td>20</td>\n",
       "      <td>1</td>\n",
       "      <td>39.2</td>\n",
       "      <td>1</td>\n",
       "      <td>0</td>\n",
       "      <td>0</td>\n",
       "      <td>2630.0</td>\n",
       "      <td>159.0</td>\n",
       "      <td>74</td>\n",
       "      <td>0</td>\n",
       "    </tr>\n",
       "  </tbody>\n",
       "</table>\n",
       "</div>"
      ]
     },
     "execution_count": 14,
     "metadata": {},
     "output_type": "execute_result"
    }
   ],
   "execution_count": 14
  },
  {
   "metadata": {
    "ExecuteTime": {
     "end_time": "2024-07-17T11:30:23.158372Z",
     "start_time": "2024-07-17T11:30:22.910951Z"
    }
   },
   "cell_type": "code",
   "source": "train = train[train.Region_Code != 39.2]",
   "id": "cab37dc1279223f2",
   "outputs": [],
   "execution_count": 15
  },
  {
   "metadata": {
    "ExecuteTime": {
     "end_time": "2024-07-17T11:30:23.162949Z",
     "start_time": "2024-07-17T11:30:23.159048Z"
    }
   },
   "cell_type": "code",
   "source": "train.head()",
   "id": "95bb48c4ed628ff6",
   "outputs": [
    {
     "data": {
      "text/plain": [
       "    Gender  Age  Driving_License  Region_Code  Previously_Insured  \\\n",
       "id                                                                  \n",
       "0        0   21                1         35.0                   0   \n",
       "1        0   43                1         28.0                   0   \n",
       "2        1   25                1         14.0                   1   \n",
       "3        1   35                1          1.0                   0   \n",
       "4        1   36                1         15.0                   1   \n",
       "\n",
       "    Vehicle_Age  Vehicle_Damage  Annual_Premium  Policy_Sales_Channel  \\\n",
       "id                                                                      \n",
       "0             1               1         65101.0                 124.0   \n",
       "1             2               1         58911.0                  26.0   \n",
       "2             0               0         38043.0                 152.0   \n",
       "3             1               1          2630.0                 156.0   \n",
       "4             1               0         31951.0                 152.0   \n",
       "\n",
       "    Vintage  Response  \n",
       "id                     \n",
       "0       187         0  \n",
       "1       288         1  \n",
       "2       254         0  \n",
       "3        76         0  \n",
       "4       294         0  "
      ],
      "text/html": [
       "<div>\n",
       "<style scoped>\n",
       "    .dataframe tbody tr th:only-of-type {\n",
       "        vertical-align: middle;\n",
       "    }\n",
       "\n",
       "    .dataframe tbody tr th {\n",
       "        vertical-align: top;\n",
       "    }\n",
       "\n",
       "    .dataframe thead th {\n",
       "        text-align: right;\n",
       "    }\n",
       "</style>\n",
       "<table border=\"1\" class=\"dataframe\">\n",
       "  <thead>\n",
       "    <tr style=\"text-align: right;\">\n",
       "      <th></th>\n",
       "      <th>Gender</th>\n",
       "      <th>Age</th>\n",
       "      <th>Driving_License</th>\n",
       "      <th>Region_Code</th>\n",
       "      <th>Previously_Insured</th>\n",
       "      <th>Vehicle_Age</th>\n",
       "      <th>Vehicle_Damage</th>\n",
       "      <th>Annual_Premium</th>\n",
       "      <th>Policy_Sales_Channel</th>\n",
       "      <th>Vintage</th>\n",
       "      <th>Response</th>\n",
       "    </tr>\n",
       "    <tr>\n",
       "      <th>id</th>\n",
       "      <th></th>\n",
       "      <th></th>\n",
       "      <th></th>\n",
       "      <th></th>\n",
       "      <th></th>\n",
       "      <th></th>\n",
       "      <th></th>\n",
       "      <th></th>\n",
       "      <th></th>\n",
       "      <th></th>\n",
       "      <th></th>\n",
       "    </tr>\n",
       "  </thead>\n",
       "  <tbody>\n",
       "    <tr>\n",
       "      <th>0</th>\n",
       "      <td>0</td>\n",
       "      <td>21</td>\n",
       "      <td>1</td>\n",
       "      <td>35.0</td>\n",
       "      <td>0</td>\n",
       "      <td>1</td>\n",
       "      <td>1</td>\n",
       "      <td>65101.0</td>\n",
       "      <td>124.0</td>\n",
       "      <td>187</td>\n",
       "      <td>0</td>\n",
       "    </tr>\n",
       "    <tr>\n",
       "      <th>1</th>\n",
       "      <td>0</td>\n",
       "      <td>43</td>\n",
       "      <td>1</td>\n",
       "      <td>28.0</td>\n",
       "      <td>0</td>\n",
       "      <td>2</td>\n",
       "      <td>1</td>\n",
       "      <td>58911.0</td>\n",
       "      <td>26.0</td>\n",
       "      <td>288</td>\n",
       "      <td>1</td>\n",
       "    </tr>\n",
       "    <tr>\n",
       "      <th>2</th>\n",
       "      <td>1</td>\n",
       "      <td>25</td>\n",
       "      <td>1</td>\n",
       "      <td>14.0</td>\n",
       "      <td>1</td>\n",
       "      <td>0</td>\n",
       "      <td>0</td>\n",
       "      <td>38043.0</td>\n",
       "      <td>152.0</td>\n",
       "      <td>254</td>\n",
       "      <td>0</td>\n",
       "    </tr>\n",
       "    <tr>\n",
       "      <th>3</th>\n",
       "      <td>1</td>\n",
       "      <td>35</td>\n",
       "      <td>1</td>\n",
       "      <td>1.0</td>\n",
       "      <td>0</td>\n",
       "      <td>1</td>\n",
       "      <td>1</td>\n",
       "      <td>2630.0</td>\n",
       "      <td>156.0</td>\n",
       "      <td>76</td>\n",
       "      <td>0</td>\n",
       "    </tr>\n",
       "    <tr>\n",
       "      <th>4</th>\n",
       "      <td>1</td>\n",
       "      <td>36</td>\n",
       "      <td>1</td>\n",
       "      <td>15.0</td>\n",
       "      <td>1</td>\n",
       "      <td>1</td>\n",
       "      <td>0</td>\n",
       "      <td>31951.0</td>\n",
       "      <td>152.0</td>\n",
       "      <td>294</td>\n",
       "      <td>0</td>\n",
       "    </tr>\n",
       "  </tbody>\n",
       "</table>\n",
       "</div>"
      ]
     },
     "execution_count": 16,
     "metadata": {},
     "output_type": "execute_result"
    }
   ],
   "execution_count": 16
  },
  {
   "metadata": {
    "ExecuteTime": {
     "end_time": "2024-07-17T11:30:23.481267Z",
     "start_time": "2024-07-17T11:30:23.163523Z"
    }
   },
   "cell_type": "code",
   "source": "train.Annual_Premium.describe()",
   "id": "16d2f17dfc39b86",
   "outputs": [
    {
     "data": {
      "text/plain": [
       "count    1.150480e+07\n",
       "mean     3.046137e+04\n",
       "std      1.645474e+04\n",
       "min      2.630000e+03\n",
       "25%      2.527700e+04\n",
       "50%      3.182400e+04\n",
       "75%      3.945100e+04\n",
       "max      5.401650e+05\n",
       "Name: Annual_Premium, dtype: float64"
      ]
     },
     "execution_count": 17,
     "metadata": {},
     "output_type": "execute_result"
    }
   ],
   "execution_count": 17
  },
  {
   "metadata": {
    "ExecuteTime": {
     "end_time": "2024-07-17T11:30:23.526309Z",
     "start_time": "2024-07-17T11:30:23.482033Z"
    }
   },
   "cell_type": "code",
   "source": [
    "Annual_Premium_mean = train.Annual_Premium.mean()\n",
    "Annual_Premium_std = train.Annual_Premium.std()\n",
    "print(Annual_Premium_mean, Annual_Premium_std)"
   ],
   "id": "83e3cf4281d2a9ef",
   "outputs": [
    {
     "name": "stdout",
     "output_type": "stream",
     "text": [
      "30461.372829698776 16454.74387408808\n"
     ]
    }
   ],
   "execution_count": 18
  },
  {
   "metadata": {
    "ExecuteTime": {
     "end_time": "2024-07-17T11:30:25.764118Z",
     "start_time": "2024-07-17T11:30:23.527082Z"
    }
   },
   "cell_type": "code",
   "source": "train['z_scores_Annual_Premium'] = train['Annual_Premium'].apply(lambda x: (x - Annual_Premium_mean) / Annual_Premium_std)",
   "id": "6f803647d15f2287",
   "outputs": [],
   "execution_count": 19
  },
  {
   "metadata": {
    "ExecuteTime": {
     "end_time": "2024-07-17T11:30:25.956874Z",
     "start_time": "2024-07-17T11:30:25.764676Z"
    }
   },
   "cell_type": "code",
   "source": "import matplotlib.pyplot as plt",
   "id": "6d1a45c7a00ac0f3",
   "outputs": [],
   "execution_count": 20
  },
  {
   "metadata": {
    "ExecuteTime": {
     "end_time": "2024-07-17T11:30:26.192031Z",
     "start_time": "2024-07-17T11:30:25.957457Z"
    }
   },
   "cell_type": "code",
   "source": [
    "plt.figure(figsize=(10, 6))\n",
    "plt.hist(train['z_scores_Annual_Premium'], bins=200, edgecolor='black')\n",
    "plt.grid(True)\n",
    "plt.show()"
   ],
   "id": "9b58835e491130ca",
   "outputs": [
    {
     "data": {
      "text/plain": [
       "<Figure size 1000x600 with 1 Axes>"
      ],
      "image/png": "[encoded data removed]"
     },
     "metadata": {},
     "output_type": "display_data"
    }
   ],
   "execution_count": 21
  },
  {
   "metadata": {
    "ExecuteTime": {
     "end_time": "2024-07-17T11:30:26.259056Z",
     "start_time": "2024-07-17T11:30:26.198249Z"
    }
   },
   "cell_type": "code",
   "source": "train[train['z_scores_Annual_Premium'] > 2].shape",
   "id": "2b6935d4a55dc652",
   "outputs": [
    {
     "data": {
      "text/plain": [
       "(175520, 12)"
      ]
     },
     "execution_count": 22,
     "metadata": {},
     "output_type": "execute_result"
    }
   ],
   "execution_count": 22
  },
  {
   "metadata": {
    "ExecuteTime": {
     "end_time": "2024-07-17T11:30:26.574538Z",
     "start_time": "2024-07-17T11:30:26.266178Z"
    }
   },
   "cell_type": "code",
   "source": "train[abs(train['z_scores_Annual_Premium']) < 5].shape",
   "id": "7ab30437d22f0247",
   "outputs": [
    {
     "data": {
      "text/plain": [
       "(11503038, 12)"
      ]
     },
     "execution_count": 23,
     "metadata": {},
     "output_type": "execute_result"
    }
   ],
   "execution_count": 23
  },
  {
   "metadata": {
    "ExecuteTime": {
     "end_time": "2024-07-17T11:30:26.577203Z",
     "start_time": "2024-07-17T11:30:26.575232Z"
    }
   },
   "cell_type": "code",
   "source": "11503038 / train.shape[0]",
   "id": "4c7529f322e6ca7c",
   "outputs": [
    {
     "data": {
      "text/plain": [
       "0.9998471072544782"
      ]
     },
     "execution_count": 24,
     "metadata": {},
     "output_type": "execute_result"
    }
   ],
   "execution_count": 24
  },
  {
   "metadata": {
    "ExecuteTime": {
     "end_time": "2024-07-17T11:30:26.745179Z",
     "start_time": "2024-07-17T11:30:26.577648Z"
    }
   },
   "cell_type": "code",
   "source": [
    "plt.figure(figsize=(10, 6))\n",
    "plt.hist(train['z_scores_Annual_Premium'], bins=200, edgecolor='black')\n",
    "plt.grid(True)\n",
    "plt.show()"
   ],
   "id": "150793c4846976b0",
   "outputs": [
    {
     "data": {
      "text/plain": [
       "<Figure size 1000x600 with 1 Axes>"
      ],
      "image/png": "[encoded data removed]"
     },
     "metadata": {},
     "output_type": "display_data"
    }
   ],
   "execution_count": 25
  },
  {
   "metadata": {
    "ExecuteTime": {
     "end_time": "2024-07-17T11:30:26.747573Z",
     "start_time": "2024-07-17T11:30:26.745968Z"
    }
   },
   "cell_type": "code",
   "source": "#### smth funny going on",
   "id": "2c10c1efd049416b",
   "outputs": [],
   "execution_count": 26
  },
  {
   "metadata": {
    "ExecuteTime": {
     "end_time": "2024-07-17T11:30:26.825444Z",
     "start_time": "2024-07-17T11:30:26.748161Z"
    }
   },
   "cell_type": "code",
   "source": "train[train['z_scores_Annual_Premium'] < -1.5].shape",
   "id": "9331d6c53b8ef573",
   "outputs": [
    {
     "data": {
      "text/plain": [
       "(2112872, 12)"
      ]
     },
     "execution_count": 27,
     "metadata": {},
     "output_type": "execute_result"
    }
   ],
   "execution_count": 27
  },
  {
   "metadata": {
    "ExecuteTime": {
     "end_time": "2024-07-17T11:30:26.828656Z",
     "start_time": "2024-07-17T11:30:26.826168Z"
    }
   },
   "cell_type": "code",
   "source": "2112872/train.shape[0]",
   "id": "8139f11c06882f5e",
   "outputs": [
    {
     "data": {
      "text/plain": [
       "0.1836513934144166"
      ]
     },
     "execution_count": 28,
     "metadata": {},
     "output_type": "execute_result"
    }
   ],
   "execution_count": 28
  },
  {
   "metadata": {
    "ExecuteTime": {
     "end_time": "2024-07-17T11:30:26.898782Z",
     "start_time": "2024-07-17T11:30:26.829203Z"
    }
   },
   "cell_type": "code",
   "source": "train[train['z_scores_Annual_Premium'] < -1.5]",
   "id": "1c3fe1ce50655b10",
   "outputs": [
    {
     "data": {
      "text/plain": [
       "          Gender  Age  Driving_License  Region_Code  Previously_Insured  \\\n",
       "id                                                                        \n",
       "3              1   35                1          1.0                   0   \n",
       "9              1   66                1         11.0                   0   \n",
       "11             1   25                1         10.0                   0   \n",
       "20             1   34                1         50.0                   1   \n",
       "28             0   40                1         35.0                   0   \n",
       "...          ...  ...              ...          ...                 ...   \n",
       "11504771       0   32                1         44.0                   0   \n",
       "11504773       0   43                1         15.0                   0   \n",
       "11504788       0   66                1          3.0                   1   \n",
       "11504791       1   31                1         32.0                   1   \n",
       "11504795       1   29                1         32.0                   1   \n",
       "\n",
       "          Vehicle_Age  Vehicle_Damage  Annual_Premium  Policy_Sales_Channel  \\\n",
       "id                                                                            \n",
       "3                   1               1          2630.0                 156.0   \n",
       "9                   1               1          2630.0                  26.0   \n",
       "11                  0               1          2630.0                 152.0   \n",
       "20                  1               0          2630.0                   8.0   \n",
       "28                  1               1          2630.0                 157.0   \n",
       "...               ...             ...             ...                   ...   \n",
       "11504771            1               1          2630.0                  26.0   \n",
       "11504773            1               1          2630.0                  26.0   \n",
       "11504788            1               0          2630.0                 152.0   \n",
       "11504791            0               0          2630.0                 152.0   \n",
       "11504795            0               0          2630.0                 152.0   \n",
       "\n",
       "          Vintage  Response  z_scores_Annual_Premium  \n",
       "id                                                    \n",
       "3              76         0                -1.691389  \n",
       "9             125         0                -1.691389  \n",
       "11             30         0                -1.691389  \n",
       "20            169         0                -1.691389  \n",
       "28            204         1                -1.691389  \n",
       "...           ...       ...                      ...  \n",
       "11504771      270         0                -1.691389  \n",
       "11504773      287         0                -1.691389  \n",
       "11504788       74         0                -1.691389  \n",
       "11504791      204         0                -1.691389  \n",
       "11504795      189         0                -1.691389  \n",
       "\n",
       "[2112872 rows x 12 columns]"
      ],
      "text/html": [
       "<div>\n",
       "<style scoped>\n",
       "    .dataframe tbody tr th:only-of-type {\n",
       "        vertical-align: middle;\n",
       "    }\n",
       "\n",
       "    .dataframe tbody tr th {\n",
       "        vertical-align: top;\n",
       "    }\n",
       "\n",
       "    .dataframe thead th {\n",
       "        text-align: right;\n",
       "    }\n",
       "</style>\n",
       "<table border=\"1\" class=\"dataframe\">\n",
       "  <thead>\n",
       "    <tr style=\"text-align: right;\">\n",
       "      <th></th>\n",
       "      <th>Gender</th>\n",
       "      <th>Age</th>\n",
       "      <th>Driving_License</th>\n",
       "      <th>Region_Code</th>\n",
       "      <th>Previously_Insured</th>\n",
       "      <th>Vehicle_Age</th>\n",
       "      <th>Vehicle_Damage</th>\n",
       "      <th>Annual_Premium</th>\n",
       "      <th>Policy_Sales_Channel</th>\n",
       "      <th>Vintage</th>\n",
       "      <th>Response</th>\n",
       "      <th>z_scores_Annual_Premium</th>\n",
       "    </tr>\n",
       "    <tr>\n",
       "      <th>id</th>\n",
       "      <th></th>\n",
       "      <th></th>\n",
       "      <th></th>\n",
       "      <th></th>\n",
       "      <th></th>\n",
       "      <th></th>\n",
       "      <th></th>\n",
       "      <th></th>\n",
       "      <th></th>\n",
       "      <th></th>\n",
       "      <th></th>\n",
       "      <th></th>\n",
       "    </tr>\n",
       "  </thead>\n",
       "  <tbody>\n",
       "    <tr>\n",
       "      <th>3</th>\n",
       "      <td>1</td>\n",
       "      <td>35</td>\n",
       "      <td>1</td>\n",
       "      <td>1.0</td>\n",
       "      <td>0</td>\n",
       "      <td>1</td>\n",
       "      <td>1</td>\n",
       "      <td>2630.0</td>\n",
       "      <td>156.0</td>\n",
       "      <td>76</td>\n",
       "      <td>0</td>\n",
       "      <td>-1.691389</td>\n",
       "    </tr>\n",
       "    <tr>\n",
       "      <th>9</th>\n",
       "      <td>1</td>\n",
       "      <td>66</td>\n",
       "      <td>1</td>\n",
       "      <td>11.0</td>\n",
       "      <td>0</td>\n",
       "      <td>1</td>\n",
       "      <td>1</td>\n",
       "      <td>2630.0</td>\n",
       "      <td>26.0</td>\n",
       "      <td>125</td>\n",
       "      <td>0</td>\n",
       "      <td>-1.691389</td>\n",
       "    </tr>\n",
       "    <tr>\n",
       "      <th>11</th>\n",
       "      <td>1</td>\n",
       "      <td>25</td>\n",
       "      <td>1</td>\n",
       "      <td>10.0</td>\n",
       "      <td>0</td>\n",
       "      <td>0</td>\n",
       "      <td>1</td>\n",
       "      <td>2630.0</td>\n",
       "      <td>152.0</td>\n",
       "      <td>30</td>\n",
       "      <td>0</td>\n",
       "      <td>-1.691389</td>\n",
       "    </tr>\n",
       "    <tr>\n",
       "      <th>20</th>\n",
       "      <td>1</td>\n",
       "      <td>34</td>\n",
       "      <td>1</td>\n",
       "      <td>50.0</td>\n",
       "      <td>1</td>\n",
       "      <td>1</td>\n",
       "      <td>0</td>\n",
       "      <td>2630.0</td>\n",
       "      <td>8.0</td>\n",
       "      <td>169</td>\n",
       "      <td>0</td>\n",
       "      <td>-1.691389</td>\n",
       "    </tr>\n",
       "    <tr>\n",
       "      <th>28</th>\n",
       "      <td>0</td>\n",
       "      <td>40</td>\n",
       "      <td>1</td>\n",
       "      <td>35.0</td>\n",
       "      <td>0</td>\n",
       "      <td>1</td>\n",
       "      <td>1</td>\n",
       "      <td>2630.0</td>\n",
       "      <td>157.0</td>\n",
       "      <td>204</td>\n",
       "      <td>1</td>\n",
       "      <td>-1.691389</td>\n",
       "    </tr>\n",
       "    <tr>\n",
       "      <th>...</th>\n",
       "      <td>...</td>\n",
       "      <td>...</td>\n",
       "      <td>...</td>\n",
       "      <td>...</td>\n",
       "      <td>...</td>\n",
       "      <td>...</td>\n",
       "      <td>...</td>\n",
       "      <td>...</td>\n",
       "      <td>...</td>\n",
       "      <td>...</td>\n",
       "      <td>...</td>\n",
       "      <td>...</td>\n",
       "    </tr>\n",
       "    <tr>\n",
       "      <th>11504771</th>\n",
       "      <td>0</td>\n",
       "      <td>32</td>\n",
       "      <td>1</td>\n",
       "      <td>44.0</td>\n",
       "      <td>0</td>\n",
       "      <td>1</td>\n",
       "      <td>1</td>\n",
       "      <td>2630.0</td>\n",
       "      <td>26.0</td>\n",
       "      <td>270</td>\n",
       "      <td>0</td>\n",
       "      <td>-1.691389</td>\n",
       "    </tr>\n",
       "    <tr>\n",
       "      <th>11504773</th>\n",
       "      <td>0</td>\n",
       "      <td>43</td>\n",
       "      <td>1</td>\n",
       "      <td>15.0</td>\n",
       "      <td>0</td>\n",
       "      <td>1</td>\n",
       "      <td>1</td>\n",
       "      <td>2630.0</td>\n",
       "      <td>26.0</td>\n",
       "      <td>287</td>\n",
       "      <td>0</td>\n",
       "      <td>-1.691389</td>\n",
       "    </tr>\n",
       "    <tr>\n",
       "      <th>11504788</th>\n",
       "      <td>0</td>\n",
       "      <td>66</td>\n",
       "      <td>1</td>\n",
       "      <td>3.0</td>\n",
       "      <td>1</td>\n",
       "      <td>1</td>\n",
       "      <td>0</td>\n",
       "      <td>2630.0</td>\n",
       "      <td>152.0</td>\n",
       "      <td>74</td>\n",
       "      <td>0</td>\n",
       "      <td>-1.691389</td>\n",
       "    </tr>\n",
       "    <tr>\n",
       "      <th>11504791</th>\n",
       "      <td>1</td>\n",
       "      <td>31</td>\n",
       "      <td>1</td>\n",
       "      <td>32.0</td>\n",
       "      <td>1</td>\n",
       "      <td>0</td>\n",
       "      <td>0</td>\n",
       "      <td>2630.0</td>\n",
       "      <td>152.0</td>\n",
       "      <td>204</td>\n",
       "      <td>0</td>\n",
       "      <td>-1.691389</td>\n",
       "    </tr>\n",
       "    <tr>\n",
       "      <th>11504795</th>\n",
       "      <td>1</td>\n",
       "      <td>29</td>\n",
       "      <td>1</td>\n",
       "      <td>32.0</td>\n",
       "      <td>1</td>\n",
       "      <td>0</td>\n",
       "      <td>0</td>\n",
       "      <td>2630.0</td>\n",
       "      <td>152.0</td>\n",
       "      <td>189</td>\n",
       "      <td>0</td>\n",
       "      <td>-1.691389</td>\n",
       "    </tr>\n",
       "  </tbody>\n",
       "</table>\n",
       "<p>2112872 rows × 12 columns</p>\n",
       "</div>"
      ]
     },
     "execution_count": 29,
     "metadata": {},
     "output_type": "execute_result"
    }
   ],
   "execution_count": 29
  },
  {
   "metadata": {
    "ExecuteTime": {
     "end_time": "2024-07-17T11:30:26.900852Z",
     "start_time": "2024-07-17T11:30:26.899467Z"
    }
   },
   "cell_type": "code",
   "source": "# ig it's fine, they just not getting insurance:)",
   "id": "2f26aae8391f1b18",
   "outputs": [],
   "execution_count": 30
  },
  {
   "metadata": {
    "ExecuteTime": {
     "end_time": "2024-07-17T11:30:27.298374Z",
     "start_time": "2024-07-17T11:30:26.901350Z"
    }
   },
   "cell_type": "code",
   "source": [
    "age_response_counts = train.groupby(['Age', 'Response']).size().unstack(fill_value=0)\n",
    "\n",
    "# Plotting\n",
    "ax = age_response_counts.plot(kind='bar', figsize=(10, 6))\n",
    "ax.set_xlabel('Age')\n",
    "ax.set_ylabel('Count')\n",
    "ax.set_title('Count of Responses (0 and 1) for Each Age')\n",
    "plt.xticks(rotation=90)\n",
    "plt.legend(title='Response', labels=['0', '1'])\n",
    "plt.show()"
   ],
   "id": "cb466dff285747a9",
   "outputs": [
    {
     "data": {
      "text/plain": [
       "<Figure size 1000x600 with 1 Axes>"
      ],
      "image/png": "[encoded data removed]"
     },
     "metadata": {},
     "output_type": "display_data"
    }
   ],
   "execution_count": 31
  },
  {
   "metadata": {
    "ExecuteTime": {
     "end_time": "2024-07-17T11:30:27.302453Z",
     "start_time": "2024-07-17T11:30:27.300866Z"
    }
   },
   "cell_type": "code",
   "source": "",
   "id": "a3c997adc1443ff8",
   "outputs": [],
   "execution_count": 31
  },
  {
   "metadata": {
    "ExecuteTime": {
     "end_time": "2024-07-17T11:30:27.304723Z",
     "start_time": "2024-07-17T11:30:27.303217Z"
    }
   },
   "cell_type": "code",
   "source": "",
   "id": "9d421adc90fe345d",
   "outputs": [],
   "execution_count": 31
  },
  {
   "metadata": {
    "ExecuteTime": {
     "end_time": "2024-07-17T11:30:27.307930Z",
     "start_time": "2024-07-17T11:30:27.305238Z"
    }
   },
   "cell_type": "code",
   "source": "train.columns",
   "id": "46e68f7ff397b349",
   "outputs": [
    {
     "data": {
      "text/plain": [
       "Index(['Gender', 'Age', 'Driving_License', 'Region_Code', 'Previously_Insured',\n",
       "       'Vehicle_Age', 'Vehicle_Damage', 'Annual_Premium',\n",
       "       'Policy_Sales_Channel', 'Vintage', 'Response',\n",
       "       'z_scores_Annual_Premium'],\n",
       "      dtype='object')"
      ]
     },
     "execution_count": 32,
     "metadata": {},
     "output_type": "execute_result"
    }
   ],
   "execution_count": 32
  },
  {
   "metadata": {
    "ExecuteTime": {
     "end_time": "2024-07-17T11:30:31.911119Z",
     "start_time": "2024-07-17T11:30:27.308667Z"
    }
   },
   "cell_type": "code",
   "source": [
    "dummies = pd.get_dummies(train['Region_Code'], dtype=float, drop_first=True, prefix='Region_Code')\n",
    "train.drop(columns=['Region_Code'], inplace=True)\n",
    "train = train.join(dummies)\n",
    "# train.dropna(inplace=True)"
   ],
   "id": "ed03bcbcbb6ac576",
   "outputs": [],
   "execution_count": 33
  },
  {
   "metadata": {},
   "cell_type": "markdown",
   "source": "",
   "id": "4ce7d17a69cf6d53"
  },
  {
   "metadata": {
    "ExecuteTime": {
     "end_time": "2024-07-17T11:30:34.817628Z",
     "start_time": "2024-07-17T11:30:31.913089Z"
    }
   },
   "cell_type": "code",
   "source": [
    "from sklearn.model_selection import train_test_split\n",
    "from tensorflow.keras.models import Sequential\n",
    "from tensorflow.keras.layers import Dense, Input, Dropout\n",
    "from tensorflow.keras.optimizers import Adam\n",
    "from tensorflow.keras.callbacks import ModelCheckpoint\n",
    "from sklearn.utils import class_weight"
   ],
   "id": "e48bd6bb5c6804bb",
   "outputs": [],
   "execution_count": 34
  },
  {
   "metadata": {
    "ExecuteTime": {
     "end_time": "2024-07-17T11:30:36.628891Z",
     "start_time": "2024-07-17T11:30:34.818274Z"
    }
   },
   "cell_type": "code",
   "source": [
    "y_train = train['Response'].astype(float)\n",
    "X_train = train.drop(['Response', 'z_scores_Annual_Premium'], axis=1)"
   ],
   "id": "99f2df2f608712ff",
   "outputs": [],
   "execution_count": 35
  },
  {
   "metadata": {
    "ExecuteTime": {
     "end_time": "2024-07-17T11:30:51.569267Z",
     "start_time": "2024-07-17T11:30:36.630744Z"
    }
   },
   "cell_type": "code",
   "source": [
    "scaler = preprocessing.StandardScaler()\n",
    "X_train = scaler.fit_transform(X_train)"
   ],
   "id": "c5d4971f4bafa3d9",
   "outputs": [],
   "execution_count": 36
  },
  {
   "metadata": {
    "ExecuteTime": {
     "end_time": "2024-07-17T11:30:52.415087Z",
     "start_time": "2024-07-17T11:30:51.571174Z"
    }
   },
   "cell_type": "code",
   "source": [
    "y_weights = class_weight.compute_class_weight('balanced', classes=[0.0, 1.0], y=y_train)\n",
    "y_weights_dict = {0.0: y_weights[0], 1.0: y_weights[1]}"
   ],
   "id": "baceb4e8d2177cc0",
   "outputs": [],
   "execution_count": 37
  },
  {
   "metadata": {
    "ExecuteTime": {
     "end_time": "2024-07-17T11:42:16.043434Z",
     "start_time": "2024-07-17T11:30:52.416004Z"
    }
   },
   "cell_type": "code",
   "source": "X_train, X_test, y_train, y_test = train_test_split(X_train, y_train, test_size=0.2 ,random_state=47)",
   "id": "ad23dc949c2dc36b",
   "outputs": [],
   "execution_count": 38
  },
  {
   "metadata": {
    "ExecuteTime": {
     "end_time": "2024-07-17T11:55:08.420961Z",
     "start_time": "2024-07-17T11:55:08.370669Z"
    }
   },
   "cell_type": "code",
   "source": [
    "model = Sequential()\n",
    "model.add(Input(shape=(X_train.shape[1],)))\n",
    "model.add(Dense(128, activation='relu'))\n",
    "model.add(Dropout(0.7))\n",
    "model.add(Dense(64, activation='relu'))\n",
    "model.add(Dropout(0.6))\n",
    "model.add(Dense(128, activation='relu'))\n",
    "model.add(Dropout(0.5))\n",
    "model.add(Dense(32, activation='relu'))\n",
    "model.add(Dropout(0.4))\n",
    "model.add(Dense(8, activation='relu'))\n",
    "model.add(Dropout(0.3))\n",
    "model.add(Dense(1, activation='sigmoid'))"
   ],
   "id": "54419fca9151e0a1",
   "outputs": [],
   "execution_count": 54
  },
  {
   "metadata": {
    "ExecuteTime": {
     "end_time": "2024-07-17T12:02:51.199677Z",
     "start_time": "2024-07-17T11:55:11.607376Z"
    }
   },
   "cell_type": "code",
   "source": [
    "model.compile(loss='binary_crossentropy', optimizer=Adam(), metrics=['accuracy'])\n",
    "history = model.fit(np.array(X_train), np.array(y_train), epochs=5, batch_size=128, validation_data=(X_test, y_test))\n",
    "model.summary()\n",
    "model.save('model.keras')"
   ],
   "id": "a8381496b0667233",
   "outputs": [
    {
     "name": "stdout",
     "output_type": "stream",
     "text": [
      "Epoch 1/5\n",
      "\u001B[1m71905/71905\u001B[0m \u001B[32m━━━━━━━━━━━━━━━━━━━━\u001B[0m\u001B[37m\u001B[0m \u001B[1m84s\u001B[0m 1ms/step - accuracy: 0.8764 - loss: 0.2832 - val_accuracy: 0.8773 - val_loss: 0.2782\n",
      "Epoch 2/5\n",
      "\u001B[1m71905/71905\u001B[0m \u001B[32m━━━━━━━━━━━━━━━━━━━━\u001B[0m\u001B[37m\u001B[0m \u001B[1m94s\u001B[0m 1ms/step - accuracy: 0.8769 - loss: 0.2734 - val_accuracy: 0.8773 - val_loss: 0.2719\n",
      "Epoch 3/5\n",
      "\u001B[1m71905/71905\u001B[0m \u001B[32m━━━━━━━━━━━━━━━━━━━━\u001B[0m\u001B[37m\u001B[0m \u001B[1m82s\u001B[0m 1ms/step - accuracy: 0.8770 - loss: 0.2732 - val_accuracy: 0.8773 - val_loss: 0.2794\n",
      "Epoch 4/5\n",
      "\u001B[1m71905/71905\u001B[0m \u001B[32m━━━━━━━━━━━━━━━━━━━━\u001B[0m\u001B[37m\u001B[0m \u001B[1m84s\u001B[0m 1ms/step - accuracy: 0.8766 - loss: 0.2734 - val_accuracy: 0.8773 - val_loss: 0.2747\n",
      "Epoch 5/5\n",
      "\u001B[1m71905/71905\u001B[0m \u001B[32m━━━━━━━━━━━━━━━━━━━━\u001B[0m\u001B[37m\u001B[0m \u001B[1m86s\u001B[0m 1ms/step - accuracy: 0.8767 - loss: 0.2732 - val_accuracy: 0.8773 - val_loss: 0.2768\n"
     ]
    },
    {
     "data": {
      "text/plain": [
       "\u001B[1mModel: \"sequential_1\"\u001B[0m\n"
      ],
      "text/html": [
       "<pre style=\"white-space:pre;overflow-x:auto;line-height:normal;font-family:Menlo,'DejaVu Sans Mono',consolas,'Courier New',monospace\"><span style=\"font-weight: bold\">Model: \"sequential_1\"</span>\n",
       "</pre>\n"
      ]
     },
     "metadata": {},
     "output_type": "display_data"
    },
    {
     "data": {
      "text/plain": [
       "┏━━━━━━━━━━━━━━━━━━━━━━━━━━━━━━━━━┳━━━━━━━━━━━━━━━━━━━━━━━━┳━━━━━━━━━━━━━━━┓\n",
       "┃\u001B[1m \u001B[0m\u001B[1mLayer (type)                   \u001B[0m\u001B[1m \u001B[0m┃\u001B[1m \u001B[0m\u001B[1mOutput Shape          \u001B[0m\u001B[1m \u001B[0m┃\u001B[1m \u001B[0m\u001B[1m      Param #\u001B[0m\u001B[1m \u001B[0m┃\n",
       "┡━━━━━━━━━━━━━━━━━━━━━━━━━━━━━━━━━╇━━━━━━━━━━━━━━━━━━━━━━━━╇━━━━━━━━━━━━━━━┩\n",
       "│ dense_6 (\u001B[38;5;33mDense\u001B[0m)                 │ (\u001B[38;5;45mNone\u001B[0m, \u001B[38;5;34m128\u001B[0m)            │         \u001B[38;5;34m7,936\u001B[0m │\n",
       "├─────────────────────────────────┼────────────────────────┼───────────────┤\n",
       "│ dropout_5 (\u001B[38;5;33mDropout\u001B[0m)             │ (\u001B[38;5;45mNone\u001B[0m, \u001B[38;5;34m128\u001B[0m)            │             \u001B[38;5;34m0\u001B[0m │\n",
       "├─────────────────────────────────┼────────────────────────┼───────────────┤\n",
       "│ dense_7 (\u001B[38;5;33mDense\u001B[0m)                 │ (\u001B[38;5;45mNone\u001B[0m, \u001B[38;5;34m64\u001B[0m)             │         \u001B[38;5;34m8,256\u001B[0m │\n",
       "├─────────────────────────────────┼────────────────────────┼───────────────┤\n",
       "│ dropout_6 (\u001B[38;5;33mDropout\u001B[0m)             │ (\u001B[38;5;45mNone\u001B[0m, \u001B[38;5;34m64\u001B[0m)             │             \u001B[38;5;34m0\u001B[0m │\n",
       "├─────────────────────────────────┼────────────────────────┼───────────────┤\n",
       "│ dense_8 (\u001B[38;5;33mDense\u001B[0m)                 │ (\u001B[38;5;45mNone\u001B[0m, \u001B[38;5;34m128\u001B[0m)            │         \u001B[38;5;34m8,320\u001B[0m │\n",
       "├─────────────────────────────────┼────────────────────────┼───────────────┤\n",
       "│ dropout_7 (\u001B[38;5;33mDropout\u001B[0m)             │ (\u001B[38;5;45mNone\u001B[0m, \u001B[38;5;34m128\u001B[0m)            │             \u001B[38;5;34m0\u001B[0m │\n",
       "├─────────────────────────────────┼────────────────────────┼───────────────┤\n",
       "│ dense_9 (\u001B[38;5;33mDense\u001B[0m)                 │ (\u001B[38;5;45mNone\u001B[0m, \u001B[38;5;34m32\u001B[0m)             │         \u001B[38;5;34m4,128\u001B[0m │\n",
       "├─────────────────────────────────┼────────────────────────┼───────────────┤\n",
       "│ dropout_8 (\u001B[38;5;33mDropout\u001B[0m)             │ (\u001B[38;5;45mNone\u001B[0m, \u001B[38;5;34m32\u001B[0m)             │             \u001B[38;5;34m0\u001B[0m │\n",
       "├─────────────────────────────────┼────────────────────────┼───────────────┤\n",
       "│ dense_10 (\u001B[38;5;33mDense\u001B[0m)                │ (\u001B[38;5;45mNone\u001B[0m, \u001B[38;5;34m8\u001B[0m)              │           \u001B[38;5;34m264\u001B[0m │\n",
       "├─────────────────────────────────┼────────────────────────┼───────────────┤\n",
       "│ dropout_9 (\u001B[38;5;33mDropout\u001B[0m)             │ (\u001B[38;5;45mNone\u001B[0m, \u001B[38;5;34m8\u001B[0m)              │             \u001B[38;5;34m0\u001B[0m │\n",
       "├─────────────────────────────────┼────────────────────────┼───────────────┤\n",
       "│ dense_11 (\u001B[38;5;33mDense\u001B[0m)                │ (\u001B[38;5;45mNone\u001B[0m, \u001B[38;5;34m1\u001B[0m)              │             \u001B[38;5;34m9\u001B[0m │\n",
       "└─────────────────────────────────┴────────────────────────┴───────────────┘\n"
      ],
      "text/html": [
       "<pre style=\"white-space:pre;overflow-x:auto;line-height:normal;font-family:Menlo,'DejaVu Sans Mono',consolas,'Courier New',monospace\">┏━━━━━━━━━━━━━━━━━━━━━━━━━━━━━━━━━┳━━━━━━━━━━━━━━━━━━━━━━━━┳━━━━━━━━━━━━━━━┓\n",
       "┃<span style=\"font-weight: bold\"> Layer (type)                    </span>┃<span style=\"font-weight: bold\"> Output Shape           </span>┃<span style=\"font-weight: bold\">       Param # </span>┃\n",
       "┡━━━━━━━━━━━━━━━━━━━━━━━━━━━━━━━━━╇━━━━━━━━━━━━━━━━━━━━━━━━╇━━━━━━━━━━━━━━━┩\n",
       "│ dense_6 (<span style=\"color: #0087ff; text-decoration-color: #0087ff\">Dense</span>)                 │ (<span style=\"color: #00d7ff; text-decoration-color: #00d7ff\">None</span>, <span style=\"color: #00af00; text-decoration-color: #00af00\">128</span>)            │         <span style=\"color: #00af00; text-decoration-color: #00af00\">7,936</span> │\n",
       "├─────────────────────────────────┼────────────────────────┼───────────────┤\n",
       "│ dropout_5 (<span style=\"color: #0087ff; text-decoration-color: #0087ff\">Dropout</span>)             │ (<span style=\"color: #00d7ff; text-decoration-color: #00d7ff\">None</span>, <span style=\"color: #00af00; text-decoration-color: #00af00\">128</span>)            │             <span style=\"color: #00af00; text-decoration-color: #00af00\">0</span> │\n",
       "├─────────────────────────────────┼────────────────────────┼───────────────┤\n",
       "│ dense_7 (<span style=\"color: #0087ff; text-decoration-color: #0087ff\">Dense</span>)                 │ (<span style=\"color: #00d7ff; text-decoration-color: #00d7ff\">None</span>, <span style=\"color: #00af00; text-decoration-color: #00af00\">64</span>)             │         <span style=\"color: #00af00; text-decoration-color: #00af00\">8,256</span> │\n",
       "├─────────────────────────────────┼────────────────────────┼───────────────┤\n",
       "│ dropout_6 (<span style=\"color: #0087ff; text-decoration-color: #0087ff\">Dropout</span>)             │ (<span style=\"color: #00d7ff; text-decoration-color: #00d7ff\">None</span>, <span style=\"color: #00af00; text-decoration-color: #00af00\">64</span>)             │             <span style=\"color: #00af00; text-decoration-color: #00af00\">0</span> │\n",
       "├─────────────────────────────────┼────────────────────────┼───────────────┤\n",
       "│ dense_8 (<span style=\"color: #0087ff; text-decoration-color: #0087ff\">Dense</span>)                 │ (<span style=\"color: #00d7ff; text-decoration-color: #00d7ff\">None</span>, <span style=\"color: #00af00; text-decoration-color: #00af00\">128</span>)            │         <span style=\"color: #00af00; text-decoration-color: #00af00\">8,320</span> │\n",
       "├─────────────────────────────────┼────────────────────────┼───────────────┤\n",
       "│ dropout_7 (<span style=\"color: #0087ff; text-decoration-color: #0087ff\">Dropout</span>)             │ (<span style=\"color: #00d7ff; text-decoration-color: #00d7ff\">None</span>, <span style=\"color: #00af00; text-decoration-color: #00af00\">128</span>)            │             <span style=\"color: #00af00; text-decoration-color: #00af00\">0</span> │\n",
       "├─────────────────────────────────┼────────────────────────┼───────────────┤\n",
       "│ dense_9 (<span style=\"color: #0087ff; text-decoration-color: #0087ff\">Dense</span>)                 │ (<span style=\"color: #00d7ff; text-decoration-color: #00d7ff\">None</span>, <span style=\"color: #00af00; text-decoration-color: #00af00\">32</span>)             │         <span style=\"color: #00af00; text-decoration-color: #00af00\">4,128</span> │\n",
       "├─────────────────────────────────┼────────────────────────┼───────────────┤\n",
       "│ dropout_8 (<span style=\"color: #0087ff; text-decoration-color: #0087ff\">Dropout</span>)             │ (<span style=\"color: #00d7ff; text-decoration-color: #00d7ff\">None</span>, <span style=\"color: #00af00; text-decoration-color: #00af00\">32</span>)             │             <span style=\"color: #00af00; text-decoration-color: #00af00\">0</span> │\n",
       "├─────────────────────────────────┼────────────────────────┼───────────────┤\n",
       "│ dense_10 (<span style=\"color: #0087ff; text-decoration-color: #0087ff\">Dense</span>)                │ (<span style=\"color: #00d7ff; text-decoration-color: #00d7ff\">None</span>, <span style=\"color: #00af00; text-decoration-color: #00af00\">8</span>)              │           <span style=\"color: #00af00; text-decoration-color: #00af00\">264</span> │\n",
       "├─────────────────────────────────┼────────────────────────┼───────────────┤\n",
       "│ dropout_9 (<span style=\"color: #0087ff; text-decoration-color: #0087ff\">Dropout</span>)             │ (<span style=\"color: #00d7ff; text-decoration-color: #00d7ff\">None</span>, <span style=\"color: #00af00; text-decoration-color: #00af00\">8</span>)              │             <span style=\"color: #00af00; text-decoration-color: #00af00\">0</span> │\n",
       "├─────────────────────────────────┼────────────────────────┼───────────────┤\n",
       "│ dense_11 (<span style=\"color: #0087ff; text-decoration-color: #0087ff\">Dense</span>)                │ (<span style=\"color: #00d7ff; text-decoration-color: #00d7ff\">None</span>, <span style=\"color: #00af00; text-decoration-color: #00af00\">1</span>)              │             <span style=\"color: #00af00; text-decoration-color: #00af00\">9</span> │\n",
       "└─────────────────────────────────┴────────────────────────┴───────────────┘\n",
       "</pre>\n"
      ]
     },
     "metadata": {},
     "output_type": "display_data"
    },
    {
     "data": {
      "text/plain": [
       "\u001B[1m Total params: \u001B[0m\u001B[38;5;34m86,741\u001B[0m (338.84 KB)\n"
      ],
      "text/html": [
       "<pre style=\"white-space:pre;overflow-x:auto;line-height:normal;font-family:Menlo,'DejaVu Sans Mono',consolas,'Courier New',monospace\"><span style=\"font-weight: bold\"> Total params: </span><span style=\"color: #00af00; text-decoration-color: #00af00\">86,741</span> (338.84 KB)\n",
       "</pre>\n"
      ]
     },
     "metadata": {},
     "output_type": "display_data"
    },
    {
     "data": {
      "text/plain": [
       "\u001B[1m Trainable params: \u001B[0m\u001B[38;5;34m28,913\u001B[0m (112.94 KB)\n"
      ],
      "text/html": [
       "<pre style=\"white-space:pre;overflow-x:auto;line-height:normal;font-family:Menlo,'DejaVu Sans Mono',consolas,'Courier New',monospace\"><span style=\"font-weight: bold\"> Trainable params: </span><span style=\"color: #00af00; text-decoration-color: #00af00\">28,913</span> (112.94 KB)\n",
       "</pre>\n"
      ]
     },
     "metadata": {},
     "output_type": "display_data"
    },
    {
     "data": {
      "text/plain": [
       "\u001B[1m Non-trainable params: \u001B[0m\u001B[38;5;34m0\u001B[0m (0.00 B)\n"
      ],
      "text/html": [
       "<pre style=\"white-space:pre;overflow-x:auto;line-height:normal;font-family:Menlo,'DejaVu Sans Mono',consolas,'Courier New',monospace\"><span style=\"font-weight: bold\"> Non-trainable params: </span><span style=\"color: #00af00; text-decoration-color: #00af00\">0</span> (0.00 B)\n",
       "</pre>\n"
      ]
     },
     "metadata": {},
     "output_type": "display_data"
    },
    {
     "data": {
      "text/plain": [
       "\u001B[1m Optimizer params: \u001B[0m\u001B[38;5;34m57,828\u001B[0m (225.89 KB)\n"
      ],
      "text/html": [
       "<pre style=\"white-space:pre;overflow-x:auto;line-height:normal;font-family:Menlo,'DejaVu Sans Mono',consolas,'Courier New',monospace\"><span style=\"font-weight: bold\"> Optimizer params: </span><span style=\"color: #00af00; text-decoration-color: #00af00\">57,828</span> (225.89 KB)\n",
       "</pre>\n"
      ]
     },
     "metadata": {},
     "output_type": "display_data"
    }
   ],
   "execution_count": 55
  },
  {
   "metadata": {},
   "cell_type": "code",
   "outputs": [],
   "execution_count": null,
   "source": "",
   "id": "7adf14a353c0f6b1"
  },
  {
   "metadata": {
    "ExecuteTime": {
     "end_time": "2024-07-17T12:05:12.298750Z",
     "start_time": "2024-07-17T12:05:12.295678Z"
    }
   },
   "cell_type": "code",
   "source": "from sklearn.metrics import roc_curve, auc",
   "id": "6b304a0a2aaa3710",
   "outputs": [],
   "execution_count": 67
  },
  {
   "metadata": {
    "ExecuteTime": {
     "end_time": "2024-07-17T12:07:06.580943Z",
     "start_time": "2024-07-17T12:06:41.442837Z"
    }
   },
   "cell_type": "code",
   "source": [
    "fpr, tpr, thresholds = roc_curve(y_test, model.predict(np.array(X_test)).flatten())\n",
    "roc_auc = auc(fpr, tpr)\n",
    "optimal_idx = np.argmax(tpr - fpr)\n",
    "optimal_threshold = thresholds[optimal_idx]"
   ],
   "id": "e4fd572125857fc8",
   "outputs": [
    {
     "name": "stdout",
     "output_type": "stream",
     "text": [
      "\u001B[1m71905/71905\u001B[0m \u001B[32m━━━━━━━━━━━━━━━━━━━━\u001B[0m\u001B[37m\u001B[0m \u001B[1m16s\u001B[0m 217us/step\n"
     ]
    }
   ],
   "execution_count": 68
  },
  {
   "metadata": {
    "ExecuteTime": {
     "end_time": "2024-07-17T12:07:28.367273Z",
     "start_time": "2024-07-17T12:07:28.362880Z"
    }
   },
   "cell_type": "code",
   "source": "optimal_threshold",
   "id": "91d1e6d001daee50",
   "outputs": [
    {
     "data": {
      "text/plain": [
       "0.22990493"
      ]
     },
     "execution_count": 69,
     "metadata": {},
     "output_type": "execute_result"
    }
   ],
   "execution_count": 69
  },
  {
   "metadata": {},
   "cell_type": "code",
   "outputs": [],
   "execution_count": null,
   "source": "",
   "id": "a963c1dedd098c63"
  },
  {
   "metadata": {
    "ExecuteTime": {
     "end_time": "2024-07-17T12:02:51.208783Z",
     "start_time": "2024-07-17T12:02:51.202734Z"
    }
   },
   "cell_type": "code",
   "source": [
    "from sklearn.ensemble import RandomForestClassifier\n",
    "from sklearn.model_selection import GridSearchCV"
   ],
   "id": "1d53cbacb0029d32",
   "outputs": [],
   "execution_count": 56
  },
  {
   "metadata": {
    "ExecuteTime": {
     "end_time": "2024-07-17T12:02:51.211610Z",
     "start_time": "2024-07-17T12:02:51.210340Z"
    }
   },
   "cell_type": "code",
   "source": [
    "# rf_params = {\n",
    "#     'n_estimators': [20, 50],\n",
    "#     'max_depth': [20],\n",
    "#     'min_samples_split': [10],\n",
    "#     'min_samples_leaf': [2]\n",
    "# }\n",
    "# \n",
    "# \n",
    "# rf_clf = RandomForestClassifier(random_state=42)\n",
    "# rf_grid_search = GridSearchCV(rf_clf, rf_params, cv=3, scoring='accuracy', verbose=1, n_jobs=5)\n",
    "# rf_grid_search.fit(X_train, y_train)"
   ],
   "id": "6ce617e6c8c7ba26",
   "outputs": [],
   "execution_count": 57
  },
  {
   "metadata": {
    "ExecuteTime": {
     "end_time": "2024-07-17T12:02:51.213197Z",
     "start_time": "2024-07-17T12:02:51.211932Z"
    }
   },
   "cell_type": "code",
   "source": [
    "# best_rf = rf_grid_search.best_estimator_\n",
    "# best_rf\n"
   ],
   "id": "50f1d20590741fd0",
   "outputs": [],
   "execution_count": 58
  },
  {
   "metadata": {
    "ExecuteTime": {
     "end_time": "2024-07-17T12:02:54.109048Z",
     "start_time": "2024-07-17T12:02:51.213569Z"
    }
   },
   "cell_type": "code",
   "source": "test = pd.read_csv('test.csv', index_col=0)",
   "id": "343dcd6197a57cc8",
   "outputs": [],
   "execution_count": 59
  },
  {
   "metadata": {
    "ExecuteTime": {
     "end_time": "2024-07-17T12:02:59.743143Z",
     "start_time": "2024-07-17T12:02:54.109767Z"
    }
   },
   "cell_type": "code",
   "source": [
    "test['Vehicle_Damage'] = test['Vehicle_Damage'].map({'Yes': 1, 'No': 0})\n",
    "test['Vehicle_Age'] = test['Vehicle_Age'].map({'< 1 Year': 0, '1-2 Year': 1, '> 2 Years': 2})\n",
    "test['Gender'] = test['Gender'].map({'Male': 0, 'Female': 1})\n",
    "test_Annual_Premium_mean = test.Annual_Premium.mean()\n",
    "test_Annual_Premium_std = test.Annual_Premium.std()\n",
    "test['z_scores_Annual_Premium'] = test['Annual_Premium'].apply(lambda x: (x - test_Annual_Premium_mean) / test_Annual_Premium_std)\n",
    "test.drop(columns=['z_scores_Annual_Premium'], inplace=True)\n",
    "\n",
    "dummies = pd.get_dummies(test['Region_Code'], dtype=float, drop_first=True, prefix='Region_Code')\n",
    "test.drop(columns=['Region_Code'], inplace=True)\n",
    "test = test.join(dummies)"
   ],
   "id": "7557308f7bf6b60b",
   "outputs": [],
   "execution_count": 60
  },
  {
   "metadata": {
    "ExecuteTime": {
     "end_time": "2024-07-17T12:04:20.397424Z",
     "start_time": "2024-07-17T12:02:59.744865Z"
    }
   },
   "cell_type": "code",
   "source": [
    "from tensorflow.keras.models import load_model\n",
    "model = load_model('model.keras')\n",
    "predictions = model.predict(scaler.fit_transform(test))\n",
    "predictions = pd.DataFrame(predictions, index=test.index, columns=['Response'])"
   ],
   "id": "c3d71a4d8ddb01ff",
   "outputs": [
    {
     "name": "stdout",
     "output_type": "stream",
     "text": [
      "\u001B[1m239684/239684\u001B[0m \u001B[32m━━━━━━━━━━━━━━━━━━━━\u001B[0m\u001B[37m\u001B[0m \u001B[1m52s\u001B[0m 217us/step\n"
     ]
    }
   ],
   "execution_count": 61
  },
  {
   "metadata": {
    "ExecuteTime": {
     "end_time": "2024-07-17T12:08:15.297911Z",
     "start_time": "2024-07-17T12:08:06.945925Z"
    }
   },
   "cell_type": "code",
   "source": [
    "predictions_opt = predictions.copy()\n",
    "predictions_opt['Response'] = predictions_opt.Response.apply(lambda x: 1 if x > optimal_threshold else 0)\n",
    "predictions_opt.reset_index().to_csv('predictions_opt.csv', index=False)"
   ],
   "id": "7a45d82668fffd32",
   "outputs": [],
   "execution_count": 72
  },
  {
   "metadata": {
    "ExecuteTime": {
     "end_time": "2024-07-17T12:08:15.302810Z",
     "start_time": "2024-07-17T12:08:15.298967Z"
    }
   },
   "cell_type": "code",
   "source": "predictions_opt",
   "id": "56247d3b0e90ff68",
   "outputs": [
    {
     "data": {
      "text/plain": [
       "          Response\n",
       "id                \n",
       "11504798         0\n",
       "11504799         1\n",
       "11504800         1\n",
       "11504801         0\n",
       "11504802         0\n",
       "...            ...\n",
       "19174659         1\n",
       "19174660         0\n",
       "19174661         0\n",
       "19174662         1\n",
       "19174663         0\n",
       "\n",
       "[7669866 rows x 1 columns]"
      ],
      "text/html": [
       "<div>\n",
       "<style scoped>\n",
       "    .dataframe tbody tr th:only-of-type {\n",
       "        vertical-align: middle;\n",
       "    }\n",
       "\n",
       "    .dataframe tbody tr th {\n",
       "        vertical-align: top;\n",
       "    }\n",
       "\n",
       "    .dataframe thead th {\n",
       "        text-align: right;\n",
       "    }\n",
       "</style>\n",
       "<table border=\"1\" class=\"dataframe\">\n",
       "  <thead>\n",
       "    <tr style=\"text-align: right;\">\n",
       "      <th></th>\n",
       "      <th>Response</th>\n",
       "    </tr>\n",
       "    <tr>\n",
       "      <th>id</th>\n",
       "      <th></th>\n",
       "    </tr>\n",
       "  </thead>\n",
       "  <tbody>\n",
       "    <tr>\n",
       "      <th>11504798</th>\n",
       "      <td>0</td>\n",
       "    </tr>\n",
       "    <tr>\n",
       "      <th>11504799</th>\n",
       "      <td>1</td>\n",
       "    </tr>\n",
       "    <tr>\n",
       "      <th>11504800</th>\n",
       "      <td>1</td>\n",
       "    </tr>\n",
       "    <tr>\n",
       "      <th>11504801</th>\n",
       "      <td>0</td>\n",
       "    </tr>\n",
       "    <tr>\n",
       "      <th>11504802</th>\n",
       "      <td>0</td>\n",
       "    </tr>\n",
       "    <tr>\n",
       "      <th>...</th>\n",
       "      <td>...</td>\n",
       "    </tr>\n",
       "    <tr>\n",
       "      <th>19174659</th>\n",
       "      <td>1</td>\n",
       "    </tr>\n",
       "    <tr>\n",
       "      <th>19174660</th>\n",
       "      <td>0</td>\n",
       "    </tr>\n",
       "    <tr>\n",
       "      <th>19174661</th>\n",
       "      <td>0</td>\n",
       "    </tr>\n",
       "    <tr>\n",
       "      <th>19174662</th>\n",
       "      <td>1</td>\n",
       "    </tr>\n",
       "    <tr>\n",
       "      <th>19174663</th>\n",
       "      <td>0</td>\n",
       "    </tr>\n",
       "  </tbody>\n",
       "</table>\n",
       "<p>7669866 rows × 1 columns</p>\n",
       "</div>"
      ]
     },
     "execution_count": 73,
     "metadata": {},
     "output_type": "execute_result"
    }
   ],
   "execution_count": 73
  },
  {
   "metadata": {
    "ExecuteTime": {
     "end_time": "2024-07-17T12:04:29.210920Z",
     "start_time": "2024-07-17T12:04:29.209557Z"
    }
   },
   "cell_type": "code",
   "source": [
    "# rf_val_predictions = best_rf.predict(test)\n",
    "# rf_val_predictions = pd.DataFrame(rf_val_predictions, index=test.index, columns=['Response'])\n",
    "# rf_val_predictions.to_csv('rf_val_predictions_2.csv')"
   ],
   "id": "bcf3aa35d725b8b8",
   "outputs": [],
   "execution_count": 66
  },
  {
   "metadata": {
    "ExecuteTime": {
     "end_time": "2024-07-17T11:48:27.518841Z",
     "start_time": "2024-07-17T11:48:27.517450Z"
    }
   },
   "cell_type": "code",
   "source": "",
   "id": "ff3522c90b8a62ff",
   "outputs": [],
   "execution_count": 51
  },
  {
   "metadata": {
    "ExecuteTime": {
     "end_time": "2024-07-17T11:48:27.520708Z",
     "start_time": "2024-07-17T11:48:27.519563Z"
    }
   },
   "cell_type": "code",
   "source": "",
   "id": "11cd8b2747dca8dd",
   "outputs": [],
   "execution_count": 51
  },
  {
   "metadata": {
    "ExecuteTime": {
     "end_time": "2024-07-17T11:48:27.522795Z",
     "start_time": "2024-07-17T11:48:27.521500Z"
    }
   },
   "cell_type": "code",
   "source": "",
   "id": "1139b00321b333d1",
   "outputs": [],
   "execution_count": 51
  },
  {
   "metadata": {
    "ExecuteTime": {
     "end_time": "2024-07-17T11:48:27.524732Z",
     "start_time": "2024-07-17T11:48:27.523495Z"
    }
   },
   "cell_type": "code",
   "source": "",
   "id": "7e86daa694256f22",
   "outputs": [],
   "execution_count": 51
  },
  {
   "metadata": {
    "ExecuteTime": {
     "end_time": "2024-07-17T11:48:27.526839Z",
     "start_time": "2024-07-17T11:48:27.525626Z"
    }
   },
   "cell_type": "code",
   "source": "",
   "id": "a0cd6331821e814f",
   "outputs": [],
   "execution_count": 51
  },
  {
   "metadata": {
    "ExecuteTime": {
     "end_time": "2024-07-17T11:48:27.528784Z",
     "start_time": "2024-07-17T11:48:27.527644Z"
    }
   },
   "cell_type": "code",
   "source": "",
   "id": "e4fa371a0d9aa583",
   "outputs": [],
   "execution_count": 51
  }
 ],
 "metadata": {
  "kernelspec": {
   "display_name": "Python 3",
   "language": "python",
   "name": "python3"
  },
  "language_info": {
   "codemirror_mode": {
    "name": "ipython",
    "version": 2
   },
   "file_extension": ".py",
   "mimetype": "text/x-python",
   "name": "python",
   "nbconvert_exporter": "python",
   "pygments_lexer": "ipython2",
   "version": "2.7.6"
  }
 },
 "nbformat": 4,
 "nbformat_minor": 5
}
